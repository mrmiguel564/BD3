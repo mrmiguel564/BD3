{
  "cells": [
    {
      "cell_type": "code",
      "execution_count": 5,
      "metadata": {
        "id": "blrJNVypqZaD"
      },
      "outputs": [],
      "source": [
        "import pandas as pd\n",
        "import numpy as np\n",
        "import matplotlib.pyplot as plt\n",
        "import seaborn as sns  # Visualización de datos estadísticos\n"
      ]
    },
    {
      "cell_type": "markdown",
      "metadata": {
        "id": "BYtNQnZJrQHv"
      },
      "source": [
        "# Lectura del dataset"
      ]
    },
    {
      "cell_type": "code",
      "execution_count": 6,
      "metadata": {
        "colab": {
          "base_uri": "https://localhost:8080/",
          "height": 531
        },
        "id": "nSf1HpaHrTld",
        "outputId": "bc1b8bb5-e084-44f7-9d9f-3df156e89e9b"
      },
      "outputs": [
        {
          "data": {
            "text/html": [
              "<div>\n",
              "<style scoped>\n",
              "    .dataframe tbody tr th:only-of-type {\n",
              "        vertical-align: middle;\n",
              "    }\n",
              "\n",
              "    .dataframe tbody tr th {\n",
              "        vertical-align: top;\n",
              "    }\n",
              "\n",
              "    .dataframe thead th {\n",
              "        text-align: right;\n",
              "    }\n",
              "</style>\n",
              "<table border=\"1\" class=\"dataframe\">\n",
              "  <thead>\n",
              "    <tr style=\"text-align: right;\">\n",
              "      <th></th>\n",
              "      <th>query</th>\n",
              "      <th>Iteration</th>\n",
              "      <th>--base Juliet Java Total Energy (J)</th>\n",
              "      <th>--base Total Energy (J)</th>\n",
              "      <th>--base Average Energy (J)</th>\n",
              "      <th>--base Total Power (W)</th>\n",
              "      <th>--base Average Power (W)</th>\n",
              "      <th>--base Runtime</th>\n",
              "      <th>--base Read Count</th>\n",
              "      <th>--base Postgres CPU %</th>\n",
              "      <th>...</th>\n",
              "      <th>compression Postgres Read Count</th>\n",
              "      <th>index-and-compression Juliet Java Total Energy (J)</th>\n",
              "      <th>index-and-compression Total Energy (J)</th>\n",
              "      <th>index-and-compression Average Energy (J)</th>\n",
              "      <th>index-and-compression Total Power (W)</th>\n",
              "      <th>index-and-compression Average Power (W)</th>\n",
              "      <th>index-and-compression Runtime</th>\n",
              "      <th>index-and-compression Read Count</th>\n",
              "      <th>index-and-compression Postgres CPU %</th>\n",
              "      <th>index-and-compression Postgres Read Count</th>\n",
              "    </tr>\n",
              "  </thead>\n",
              "  <tbody>\n",
              "    <tr>\n",
              "      <th>0</th>\n",
              "      <td>1</td>\n",
              "      <td>1</td>\n",
              "      <td>21.7749</td>\n",
              "      <td>13.1298</td>\n",
              "      <td>0.273538</td>\n",
              "      <td>0.5827</td>\n",
              "      <td>0.012140</td>\n",
              "      <td>41589354580</td>\n",
              "      <td>112.0</td>\n",
              "      <td>71.76</td>\n",
              "      <td>...</td>\n",
              "      <td>38870.99</td>\n",
              "      <td>21.0338</td>\n",
              "      <td>13.3582</td>\n",
              "      <td>0.333955</td>\n",
              "      <td>1.6220</td>\n",
              "      <td>0.040550</td>\n",
              "      <td>30846643180</td>\n",
              "      <td>112.0</td>\n",
              "      <td>99.23</td>\n",
              "      <td>107271.67</td>\n",
              "    </tr>\n",
              "    <tr>\n",
              "      <th>1</th>\n",
              "      <td>1</td>\n",
              "      <td>2</td>\n",
              "      <td>23.6804</td>\n",
              "      <td>12.2016</td>\n",
              "      <td>0.271147</td>\n",
              "      <td>0.1727</td>\n",
              "      <td>0.003838</td>\n",
              "      <td>25841325520</td>\n",
              "      <td>112.0</td>\n",
              "      <td>69.63</td>\n",
              "      <td>...</td>\n",
              "      <td>40560.68</td>\n",
              "      <td>23.4381</td>\n",
              "      <td>13.9155</td>\n",
              "      <td>0.296074</td>\n",
              "      <td>1.4173</td>\n",
              "      <td>0.030155</td>\n",
              "      <td>21187078549</td>\n",
              "      <td>112.0</td>\n",
              "      <td>0.00</td>\n",
              "      <td>0.00</td>\n",
              "    </tr>\n",
              "    <tr>\n",
              "      <th>2</th>\n",
              "      <td>1</td>\n",
              "      <td>3</td>\n",
              "      <td>25.1116</td>\n",
              "      <td>12.9996</td>\n",
              "      <td>0.259992</td>\n",
              "      <td>0.4585</td>\n",
              "      <td>0.009170</td>\n",
              "      <td>23625756545</td>\n",
              "      <td>112.0</td>\n",
              "      <td>71.75</td>\n",
              "      <td>...</td>\n",
              "      <td>40228.22</td>\n",
              "      <td>21.8224</td>\n",
              "      <td>12.7353</td>\n",
              "      <td>0.283007</td>\n",
              "      <td>1.1478</td>\n",
              "      <td>0.025507</td>\n",
              "      <td>20159461880</td>\n",
              "      <td>112.0</td>\n",
              "      <td>0.00</td>\n",
              "      <td>0.00</td>\n",
              "    </tr>\n",
              "    <tr>\n",
              "      <th>3</th>\n",
              "      <td>1</td>\n",
              "      <td>4</td>\n",
              "      <td>25.0316</td>\n",
              "      <td>10.6466</td>\n",
              "      <td>0.171719</td>\n",
              "      <td>0.8107</td>\n",
              "      <td>0.013076</td>\n",
              "      <td>24497828758</td>\n",
              "      <td>112.0</td>\n",
              "      <td>60.05</td>\n",
              "      <td>...</td>\n",
              "      <td>36864.27</td>\n",
              "      <td>25.2161</td>\n",
              "      <td>10.8845</td>\n",
              "      <td>0.253128</td>\n",
              "      <td>0.9846</td>\n",
              "      <td>0.022898</td>\n",
              "      <td>21192134977</td>\n",
              "      <td>112.0</td>\n",
              "      <td>0.00</td>\n",
              "      <td>0.00</td>\n",
              "    </tr>\n",
              "    <tr>\n",
              "      <th>4</th>\n",
              "      <td>1</td>\n",
              "      <td>5</td>\n",
              "      <td>20.0130</td>\n",
              "      <td>12.5769</td>\n",
              "      <td>0.292486</td>\n",
              "      <td>0.9260</td>\n",
              "      <td>0.021535</td>\n",
              "      <td>24209762836</td>\n",
              "      <td>112.0</td>\n",
              "      <td>71.22</td>\n",
              "      <td>...</td>\n",
              "      <td>39700.70</td>\n",
              "      <td>20.5399</td>\n",
              "      <td>13.3803</td>\n",
              "      <td>0.290876</td>\n",
              "      <td>0.7410</td>\n",
              "      <td>0.016109</td>\n",
              "      <td>20218967530</td>\n",
              "      <td>112.0</td>\n",
              "      <td>0.00</td>\n",
              "      <td>0.00</td>\n",
              "    </tr>\n",
              "    <tr>\n",
              "      <th>...</th>\n",
              "      <td>...</td>\n",
              "      <td>...</td>\n",
              "      <td>...</td>\n",
              "      <td>...</td>\n",
              "      <td>...</td>\n",
              "      <td>...</td>\n",
              "      <td>...</td>\n",
              "      <td>...</td>\n",
              "      <td>...</td>\n",
              "      <td>...</td>\n",
              "      <td>...</td>\n",
              "      <td>...</td>\n",
              "      <td>...</td>\n",
              "      <td>...</td>\n",
              "      <td>...</td>\n",
              "      <td>...</td>\n",
              "      <td>...</td>\n",
              "      <td>...</td>\n",
              "      <td>...</td>\n",
              "      <td>...</td>\n",
              "      <td>...</td>\n",
              "    </tr>\n",
              "    <tr>\n",
              "      <th>655</th>\n",
              "      <td>22</td>\n",
              "      <td>26</td>\n",
              "      <td>-2404.4300</td>\n",
              "      <td>12.0934</td>\n",
              "      <td>0.262900</td>\n",
              "      <td>0.6484</td>\n",
              "      <td>0.014096</td>\n",
              "      <td>360435951079</td>\n",
              "      <td>112.0</td>\n",
              "      <td>0.00</td>\n",
              "      <td>...</td>\n",
              "      <td>27.05</td>\n",
              "      <td>17.7020</td>\n",
              "      <td>26.0349</td>\n",
              "      <td>13.017450</td>\n",
              "      <td>26.0349</td>\n",
              "      <td>13.017450</td>\n",
              "      <td>8286380797</td>\n",
              "      <td>112.0</td>\n",
              "      <td>0.00</td>\n",
              "      <td>0.00</td>\n",
              "    </tr>\n",
              "    <tr>\n",
              "      <th>656</th>\n",
              "      <td>22</td>\n",
              "      <td>27</td>\n",
              "      <td>111.3760</td>\n",
              "      <td>12.9474</td>\n",
              "      <td>0.323685</td>\n",
              "      <td>0.6568</td>\n",
              "      <td>0.016420</td>\n",
              "      <td>339360821140</td>\n",
              "      <td>112.0</td>\n",
              "      <td>0.00</td>\n",
              "      <td>...</td>\n",
              "      <td>36.52</td>\n",
              "      <td>16.8539</td>\n",
              "      <td>31.9875</td>\n",
              "      <td>15.993750</td>\n",
              "      <td>31.9875</td>\n",
              "      <td>15.993750</td>\n",
              "      <td>8371370236</td>\n",
              "      <td>112.0</td>\n",
              "      <td>0.00</td>\n",
              "      <td>0.00</td>\n",
              "    </tr>\n",
              "    <tr>\n",
              "      <th>657</th>\n",
              "      <td>22</td>\n",
              "      <td>28</td>\n",
              "      <td>127.1810</td>\n",
              "      <td>12.7200</td>\n",
              "      <td>0.295814</td>\n",
              "      <td>0.4454</td>\n",
              "      <td>0.010358</td>\n",
              "      <td>403758743976</td>\n",
              "      <td>112.0</td>\n",
              "      <td>8.29</td>\n",
              "      <td>...</td>\n",
              "      <td>244256.94</td>\n",
              "      <td>16.0522</td>\n",
              "      <td>34.4829</td>\n",
              "      <td>0.313481</td>\n",
              "      <td>27.6328</td>\n",
              "      <td>0.251207</td>\n",
              "      <td>8283836734</td>\n",
              "      <td>112.0</td>\n",
              "      <td>0.00</td>\n",
              "      <td>0.00</td>\n",
              "    </tr>\n",
              "    <tr>\n",
              "      <th>658</th>\n",
              "      <td>22</td>\n",
              "      <td>29</td>\n",
              "      <td>112.3590</td>\n",
              "      <td>11.6654</td>\n",
              "      <td>0.271288</td>\n",
              "      <td>0.2586</td>\n",
              "      <td>0.006014</td>\n",
              "      <td>359958773648</td>\n",
              "      <td>112.0</td>\n",
              "      <td>0.00</td>\n",
              "      <td>...</td>\n",
              "      <td>34.83</td>\n",
              "      <td>16.3233</td>\n",
              "      <td>30.3229</td>\n",
              "      <td>7.580725</td>\n",
              "      <td>29.7637</td>\n",
              "      <td>7.440925</td>\n",
              "      <td>8291483814</td>\n",
              "      <td>112.0</td>\n",
              "      <td>0.00</td>\n",
              "      <td>0.00</td>\n",
              "    </tr>\n",
              "    <tr>\n",
              "      <th>659</th>\n",
              "      <td>22</td>\n",
              "      <td>30</td>\n",
              "      <td>125.1410</td>\n",
              "      <td>11.1120</td>\n",
              "      <td>0.241565</td>\n",
              "      <td>1.4826</td>\n",
              "      <td>0.032230</td>\n",
              "      <td>400582295854</td>\n",
              "      <td>112.0</td>\n",
              "      <td>0.00</td>\n",
              "      <td>...</td>\n",
              "      <td>22.12</td>\n",
              "      <td>15.0577</td>\n",
              "      <td>29.0413</td>\n",
              "      <td>14.520650</td>\n",
              "      <td>29.0413</td>\n",
              "      <td>14.520650</td>\n",
              "      <td>8675369014</td>\n",
              "      <td>112.0</td>\n",
              "      <td>0.00</td>\n",
              "      <td>0.00</td>\n",
              "    </tr>\n",
              "  </tbody>\n",
              "</table>\n",
              "<p>660 rows × 38 columns</p>\n",
              "</div>"
            ],
            "text/plain": [
              "     query  Iteration  --base Juliet Java Total Energy (J)  \\\n",
              "0        1          1                              21.7749   \n",
              "1        1          2                              23.6804   \n",
              "2        1          3                              25.1116   \n",
              "3        1          4                              25.0316   \n",
              "4        1          5                              20.0130   \n",
              "..     ...        ...                                  ...   \n",
              "655     22         26                           -2404.4300   \n",
              "656     22         27                             111.3760   \n",
              "657     22         28                             127.1810   \n",
              "658     22         29                             112.3590   \n",
              "659     22         30                             125.1410   \n",
              "\n",
              "     --base Total Energy (J)  --base Average Energy (J)  \\\n",
              "0                    13.1298                   0.273538   \n",
              "1                    12.2016                   0.271147   \n",
              "2                    12.9996                   0.259992   \n",
              "3                    10.6466                   0.171719   \n",
              "4                    12.5769                   0.292486   \n",
              "..                       ...                        ...   \n",
              "655                  12.0934                   0.262900   \n",
              "656                  12.9474                   0.323685   \n",
              "657                  12.7200                   0.295814   \n",
              "658                  11.6654                   0.271288   \n",
              "659                  11.1120                   0.241565   \n",
              "\n",
              "     --base Total Power (W)  --base Average Power (W)  --base Runtime  \\\n",
              "0                    0.5827                  0.012140     41589354580   \n",
              "1                    0.1727                  0.003838     25841325520   \n",
              "2                    0.4585                  0.009170     23625756545   \n",
              "3                    0.8107                  0.013076     24497828758   \n",
              "4                    0.9260                  0.021535     24209762836   \n",
              "..                      ...                       ...             ...   \n",
              "655                  0.6484                  0.014096    360435951079   \n",
              "656                  0.6568                  0.016420    339360821140   \n",
              "657                  0.4454                  0.010358    403758743976   \n",
              "658                  0.2586                  0.006014    359958773648   \n",
              "659                  1.4826                  0.032230    400582295854   \n",
              "\n",
              "     --base Read Count  --base Postgres CPU %  ...  \\\n",
              "0                112.0                  71.76  ...   \n",
              "1                112.0                  69.63  ...   \n",
              "2                112.0                  71.75  ...   \n",
              "3                112.0                  60.05  ...   \n",
              "4                112.0                  71.22  ...   \n",
              "..                 ...                    ...  ...   \n",
              "655              112.0                   0.00  ...   \n",
              "656              112.0                   0.00  ...   \n",
              "657              112.0                   8.29  ...   \n",
              "658              112.0                   0.00  ...   \n",
              "659              112.0                   0.00  ...   \n",
              "\n",
              "     compression Postgres Read Count  \\\n",
              "0                           38870.99   \n",
              "1                           40560.68   \n",
              "2                           40228.22   \n",
              "3                           36864.27   \n",
              "4                           39700.70   \n",
              "..                               ...   \n",
              "655                            27.05   \n",
              "656                            36.52   \n",
              "657                        244256.94   \n",
              "658                            34.83   \n",
              "659                            22.12   \n",
              "\n",
              "     index-and-compression Juliet Java Total Energy (J)  \\\n",
              "0                                              21.0338    \n",
              "1                                              23.4381    \n",
              "2                                              21.8224    \n",
              "3                                              25.2161    \n",
              "4                                              20.5399    \n",
              "..                                                 ...    \n",
              "655                                            17.7020    \n",
              "656                                            16.8539    \n",
              "657                                            16.0522    \n",
              "658                                            16.3233    \n",
              "659                                            15.0577    \n",
              "\n",
              "     index-and-compression Total Energy (J)  \\\n",
              "0                                   13.3582   \n",
              "1                                   13.9155   \n",
              "2                                   12.7353   \n",
              "3                                   10.8845   \n",
              "4                                   13.3803   \n",
              "..                                      ...   \n",
              "655                                 26.0349   \n",
              "656                                 31.9875   \n",
              "657                                 34.4829   \n",
              "658                                 30.3229   \n",
              "659                                 29.0413   \n",
              "\n",
              "     index-and-compression Average Energy (J)  \\\n",
              "0                                    0.333955   \n",
              "1                                    0.296074   \n",
              "2                                    0.283007   \n",
              "3                                    0.253128   \n",
              "4                                    0.290876   \n",
              "..                                        ...   \n",
              "655                                 13.017450   \n",
              "656                                 15.993750   \n",
              "657                                  0.313481   \n",
              "658                                  7.580725   \n",
              "659                                 14.520650   \n",
              "\n",
              "     index-and-compression Total Power (W)  \\\n",
              "0                                   1.6220   \n",
              "1                                   1.4173   \n",
              "2                                   1.1478   \n",
              "3                                   0.9846   \n",
              "4                                   0.7410   \n",
              "..                                     ...   \n",
              "655                                26.0349   \n",
              "656                                31.9875   \n",
              "657                                27.6328   \n",
              "658                                29.7637   \n",
              "659                                29.0413   \n",
              "\n",
              "     index-and-compression Average Power (W)  index-and-compression Runtime  \\\n",
              "0                                   0.040550                    30846643180   \n",
              "1                                   0.030155                    21187078549   \n",
              "2                                   0.025507                    20159461880   \n",
              "3                                   0.022898                    21192134977   \n",
              "4                                   0.016109                    20218967530   \n",
              "..                                       ...                            ...   \n",
              "655                                13.017450                     8286380797   \n",
              "656                                15.993750                     8371370236   \n",
              "657                                 0.251207                     8283836734   \n",
              "658                                 7.440925                     8291483814   \n",
              "659                                14.520650                     8675369014   \n",
              "\n",
              "     index-and-compression Read Count  index-and-compression Postgres CPU %  \\\n",
              "0                               112.0                                 99.23   \n",
              "1                               112.0                                  0.00   \n",
              "2                               112.0                                  0.00   \n",
              "3                               112.0                                  0.00   \n",
              "4                               112.0                                  0.00   \n",
              "..                                ...                                   ...   \n",
              "655                             112.0                                  0.00   \n",
              "656                             112.0                                  0.00   \n",
              "657                             112.0                                  0.00   \n",
              "658                             112.0                                  0.00   \n",
              "659                             112.0                                  0.00   \n",
              "\n",
              "     index-and-compression Postgres Read Count  \n",
              "0                                    107271.67  \n",
              "1                                         0.00  \n",
              "2                                         0.00  \n",
              "3                                         0.00  \n",
              "4                                         0.00  \n",
              "..                                         ...  \n",
              "655                                       0.00  \n",
              "656                                       0.00  \n",
              "657                                       0.00  \n",
              "658                                       0.00  \n",
              "659                                       0.00  \n",
              "\n",
              "[660 rows x 38 columns]"
            ]
          },
          "execution_count": 6,
          "metadata": {},
          "output_type": "execute_result"
        }
      ],
      "source": [
        "client_data=pd.read_csv('all-client_resume_iteration.csv')\n",
        "client_data"
      ]
    },
    {
      "cell_type": "markdown",
      "metadata": {
        "id": "fDXqJi4hqgGX"
      },
      "source": [
        "# Descripción del dataset\n",
        "\n",
        "El dataset a utilizar es all- client_resume_iteration.\n",
        "Este dataset contiene los datos recopilados por un estudio que muestran los resultados del consumo energetico de distintas optimizaciones de consultas realizadas a una base de datos.\n"
      ]
    },
    {
      "cell_type": "markdown",
      "metadata": {
        "id": "1qz7eH7krf8s"
      },
      "source": [
        "El dataset cuenta con 25.080 datos distribuidos en 660 filas y 38 columnas"
      ]
    },
    {
      "cell_type": "code",
      "execution_count": 7,
      "metadata": {
        "colab": {
          "base_uri": "https://localhost:8080/"
        },
        "id": "Q0wkap7VgRl8",
        "outputId": "aacfffa4-4f28-4dff-9293-ed24f4904f93"
      },
      "outputs": [
        {
          "name": "stdout",
          "output_type": "stream",
          "text": [
            "<class 'pandas.core.frame.DataFrame'>\n",
            "RangeIndex: 660 entries, 0 to 659\n",
            "Data columns (total 38 columns):\n",
            " #   Column                                              Non-Null Count  Dtype  \n",
            "---  ------                                              --------------  -----  \n",
            " 0   query                                               660 non-null    int64  \n",
            " 1   Iteration                                           660 non-null    int64  \n",
            " 2   --base Juliet Java Total Energy (J)                 660 non-null    float64\n",
            " 3   --base Total Energy (J)                             660 non-null    float64\n",
            " 4   --base Average Energy (J)                           660 non-null    float64\n",
            " 5   --base Total Power (W)                              660 non-null    float64\n",
            " 6   --base Average Power (W)                            660 non-null    float64\n",
            " 7   --base Runtime                                      660 non-null    int64  \n",
            " 8   --base Read Count                                   660 non-null    float64\n",
            " 9   --base Postgres CPU %                               660 non-null    float64\n",
            " 10  --base Postgres Read Count                          660 non-null    float64\n",
            " 11  index Juliet Java Total Energy (J)                  660 non-null    float64\n",
            " 12  index Total Energy (J)                              660 non-null    float64\n",
            " 13  index Average Energy (J)                            660 non-null    float64\n",
            " 14  index Total Power (W)                               660 non-null    float64\n",
            " 15  index Average Power (W)                             660 non-null    float64\n",
            " 16  index Runtime                                       660 non-null    int64  \n",
            " 17  index Read Count                                    660 non-null    float64\n",
            " 18  index Postgres CPU %                                660 non-null    float64\n",
            " 19  index Postgres Read Count                           660 non-null    float64\n",
            " 20  compression Juliet Java Total Energy (J)            660 non-null    float64\n",
            " 21  compression Total Energy (J)                        660 non-null    float64\n",
            " 22  compression Average Energy (J)                      660 non-null    float64\n",
            " 23  compression Total Power (W)                         660 non-null    float64\n",
            " 24  compression Average Power (W)                       660 non-null    float64\n",
            " 25  compression Runtime                                 660 non-null    int64  \n",
            " 26  compression Read Count                              660 non-null    float64\n",
            " 27  compression Postgres CPU %                          660 non-null    float64\n",
            " 28  compression Postgres Read Count                     660 non-null    float64\n",
            " 29  index-and-compression Juliet Java Total Energy (J)  660 non-null    float64\n",
            " 30  index-and-compression Total Energy (J)              660 non-null    float64\n",
            " 31  index-and-compression Average Energy (J)            660 non-null    float64\n",
            " 32  index-and-compression Total Power (W)               660 non-null    float64\n",
            " 33  index-and-compression Average Power (W)             660 non-null    float64\n",
            " 34  index-and-compression Runtime                       660 non-null    int64  \n",
            " 35  index-and-compression Read Count                    660 non-null    float64\n",
            " 36  index-and-compression Postgres CPU %                660 non-null    float64\n",
            " 37  index-and-compression Postgres Read Count           660 non-null    float64\n",
            "dtypes: float64(32), int64(6)\n",
            "memory usage: 196.1 KB\n"
          ]
        }
      ],
      "source": [
        "client_data.info()"
      ]
    },
    {
      "cell_type": "code",
      "execution_count": 8,
      "metadata": {
        "colab": {
          "base_uri": "https://localhost:8080/"
        },
        "id": "4U4_ZopCsJBX",
        "outputId": "378e7a85-f2a1-49ed-935e-eda516303154"
      },
      "outputs": [
        {
          "data": {
            "text/plain": [
              "0"
            ]
          },
          "execution_count": 8,
          "metadata": {},
          "output_type": "execute_result"
        }
      ],
      "source": [
        "#Para calcular valores nulos\n",
        "client_data.isna().sum().sum()"
      ]
    },
    {
      "cell_type": "markdown",
      "metadata": {
        "id": "1MBNAyzNsVFf"
      },
      "source": [
        "Como se puede observar, el dataset cuenta con 38 variables, cuyos datos son todos numericos variando del tipo int64(enteros de 64 bits) y float64(flotantes de 64 bits). No existen valores nulos en la tabla"
      ]
    },
    {
      "cell_type": "code",
      "execution_count": 9,
      "metadata": {
        "colab": {
          "base_uri": "https://localhost:8080/",
          "height": 300
        },
        "id": "u2hUlyzZ8e_x",
        "outputId": "f37a3dc6-fa3c-4226-a4a3-cbcf7338ca8e"
      },
      "outputs": [
        {
          "data": {
            "text/html": [
              "<div>\n",
              "<style scoped>\n",
              "    .dataframe tbody tr th:only-of-type {\n",
              "        vertical-align: middle;\n",
              "    }\n",
              "\n",
              "    .dataframe tbody tr th {\n",
              "        vertical-align: top;\n",
              "    }\n",
              "\n",
              "    .dataframe thead th {\n",
              "        text-align: right;\n",
              "    }\n",
              "</style>\n",
              "<table border=\"1\" class=\"dataframe\">\n",
              "  <thead>\n",
              "    <tr style=\"text-align: right;\">\n",
              "      <th></th>\n",
              "      <th>--base Juliet Java Total Energy (J)</th>\n",
              "      <th>index Juliet Java Total Energy (J)</th>\n",
              "    </tr>\n",
              "  </thead>\n",
              "  <tbody>\n",
              "    <tr>\n",
              "      <th>count</th>\n",
              "      <td>660.000000</td>\n",
              "      <td>660.000000</td>\n",
              "    </tr>\n",
              "    <tr>\n",
              "      <th>mean</th>\n",
              "      <td>15.252841</td>\n",
              "      <td>18.584343</td>\n",
              "    </tr>\n",
              "    <tr>\n",
              "      <th>std</th>\n",
              "      <td>215.304286</td>\n",
              "      <td>2.964933</td>\n",
              "    </tr>\n",
              "    <tr>\n",
              "      <th>min</th>\n",
              "      <td>-4916.650000</td>\n",
              "      <td>12.232200</td>\n",
              "    </tr>\n",
              "    <tr>\n",
              "      <th>25%</th>\n",
              "      <td>18.170550</td>\n",
              "      <td>16.371525</td>\n",
              "    </tr>\n",
              "    <tr>\n",
              "      <th>50%</th>\n",
              "      <td>19.980600</td>\n",
              "      <td>18.308250</td>\n",
              "    </tr>\n",
              "    <tr>\n",
              "      <th>75%</th>\n",
              "      <td>24.051675</td>\n",
              "      <td>20.555300</td>\n",
              "    </tr>\n",
              "    <tr>\n",
              "      <th>max</th>\n",
              "      <td>134.066000</td>\n",
              "      <td>29.785200</td>\n",
              "    </tr>\n",
              "  </tbody>\n",
              "</table>\n",
              "</div>"
            ],
            "text/plain": [
              "       --base Juliet Java Total Energy (J)  index Juliet Java Total Energy (J)\n",
              "count                           660.000000                          660.000000\n",
              "mean                             15.252841                           18.584343\n",
              "std                             215.304286                            2.964933\n",
              "min                           -4916.650000                           12.232200\n",
              "25%                              18.170550                           16.371525\n",
              "50%                              19.980600                           18.308250\n",
              "75%                              24.051675                           20.555300\n",
              "max                             134.066000                           29.785200"
            ]
          },
          "execution_count": 9,
          "metadata": {},
          "output_type": "execute_result"
        }
      ],
      "source": [
        "client_data[['--base Juliet Java Total Energy (J)','index Juliet Java Total Energy (J)']].describe()"
      ]
    },
    {
      "cell_type": "markdown",
      "metadata": {
        "id": "nBdu7BdZwwWP"
      },
      "source": [
        "# Analisis Univariado\n",
        "Para hacer este analisis se utilizaran las variables '--base Juliet Java Total Energy (J)' y 'index Juliet Java Total Energy (J)'.\n",
        "Se obtendran las medidas de tendencia central y de dispersion.\n",
        "Se hara un analisis de los datos y se revisara si hay que hacer cambios en el dataset para tener una lectura mas clara de estos."
      ]
    },
    {
      "cell_type": "markdown",
      "metadata": {
        "id": "yCrUWyP5x0Ty"
      },
      "source": [
        "# Inicio de analisis univariado"
      ]
    },
    {
      "cell_type": "code",
      "execution_count": 10,
      "metadata": {
        "colab": {
          "base_uri": "https://localhost:8080/"
        },
        "id": "LnRp3Br3xMl9",
        "outputId": "2976e592-8a24-40e3-91fc-385aeef4cd40"
      },
      "outputs": [
        {
          "name": "stdout",
          "output_type": "stream",
          "text": [
            "Medidas de tendencia central y dispersión para '--base Juliet Java Total Energy (J)':\n",
            "Media: 15.252840909090912\n",
            "Mediana: 19.980600000000003\n",
            "Desviación Estándar: 215.304285592657\n",
            "Varianza: 46355.93539456441\n",
            "Rango: 125.94999999999999\n",
            "Mínimo: -4916.65\n",
            "Máximo: 134.066\n",
            "\n",
            "Medidas de tendencia central y dispersión para 'index Juliet Java Total Energy (J)':\n",
            "Media: 18.584343030303028\n",
            "Mediana: 18.30825\n",
            "Desviación Estándar: 2.964932688163141\n",
            "Varianza: 8.790825845338308\n",
            "Rango: 21.669199999999993\n",
            "Mínimo: 12.2322\n",
            "Máximo: 29.7852\n",
            "\n"
          ]
        }
      ],
      "source": [
        "#Cálculo de las medidas de tendencia central y las dispersioón para '--base Juliet Java Total Energy (J)'\n",
        "print(\"Medidas de tendencia central y dispersión para '--base Juliet Java Total Energy (J)':\")\n",
        "print(f\"Media: {client_data['--base Juliet Java Total Energy (J)'].mean()}\")\n",
        "print(f\"Mediana: {client_data['--base Juliet Java Total Energy (J)'].median()}\")\n",
        "print(f\"Desviación Estándar: {client_data['--base Juliet Java Total Energy (J)'].std()}\")\n",
        "print(f\"Varianza: {client_data['--base Juliet Java Total Energy (J)'].var()}\")\n",
        "print(f\"Rango: {client_data['--base Juliet Java Total Energy (J)'].max() - client_data['index Total Energy (J)'].min()}\")\n",
        "print(f\"Mínimo: {client_data['--base Juliet Java Total Energy (J)'].min()}\")\n",
        "print(f\"Máximo: {client_data['--base Juliet Java Total Energy (J)'].max()}\\n\")\n",
        "\n",
        "\n",
        "#Cálculo de las medidas de tendencia central y las dispersioón para 'index Juliet Java Total Energy (J)'\n",
        "print(\"Medidas de tendencia central y dispersión para 'index Juliet Java Total Energy (J)':\")\n",
        "print(f\"Media: {client_data['index Juliet Java Total Energy (J)'].mean()}\")\n",
        "print(f\"Mediana: {client_data['index Juliet Java Total Energy (J)'].median()}\")\n",
        "print(f\"Desviación Estándar: {client_data['index Juliet Java Total Energy (J)'].std()}\")\n",
        "print(f\"Varianza: {client_data['index Juliet Java Total Energy (J)'].var()}\")\n",
        "print(f\"Rango: {client_data['index Juliet Java Total Energy (J)'].max() - client_data['index Total Energy (J)'].min()}\")\n",
        "print(f\"Mínimo: {client_data['index Juliet Java Total Energy (J)'].min()}\")\n",
        "print(f\"Máximo: {client_data['index Juliet Java Total Energy (J)'].max()}\\n\")\n"
      ]
    },
    {
      "cell_type": "code",
      "execution_count": 11,
      "metadata": {
        "colab": {
          "base_uri": "https://localhost:8080/"
        },
        "id": "D_xVK3kf5GVz",
        "outputId": "fc5f9b6c-0b24-47d6-d3ba-1f1c2c302c4b"
      },
      "outputs": [
        {
          "name": "stdout",
          "output_type": "stream",
          "text": [
            "Valores faltantes en el dataset del cliente:\n",
            "0\n"
          ]
        }
      ],
      "source": [
        "print(\"Valores faltantes en el dataset del cliente:\")\n",
        "print(client_data.isnull().sum().sum())"
      ]
    },
    {
      "cell_type": "markdown",
      "metadata": {
        "id": "anB_mcgu5xfk"
      },
      "source": [
        "No hay datos nulos.\n",
        "Como podemmos observar, en la variable '-- base Juliet Java Total Energy (J)' hay valores negativos y muy altos. Para tratar estos datos, ya que no se pueden eliminar al pertenecer todos a la query 22, se imputaran los datos para hacer mas clara la lectura de los datos.\n",
        "Para hacer esto se cambiara todos los datos de la variable '--base Juliet Java Total Energy (j)' por la mediana de la query completa."
      ]
    },
    {
      "cell_type": "code",
      "execution_count": 12,
      "metadata": {
        "id": "w-Sfi32Q6bC2"
      },
      "outputs": [],
      "source": [
        "#Se immputan los datos de la query 22\n",
        "baseJ_noneg=client_data.copy()\n",
        "mediana = baseJ_noneg[baseJ_noneg['query'] == 22]['--base Juliet Java Total Energy (J)'].median()\n",
        "baseJ_noneg.loc[(baseJ_noneg['query'] == 22) , '--base Juliet Java Total Energy (J)'] = mediana\n",
        "\n"
      ]
    },
    {
      "cell_type": "code",
      "execution_count": 13,
      "metadata": {
        "id": "rFjIoGC69K7c"
      },
      "outputs": [],
      "source": [
        "#Se crea un subconjunto limpio con las variables a revisar\n",
        "subset_clean= baseJ_noneg[['--base Juliet Java Total Energy (J)','index Juliet Java Total Energy (J)']]"
      ]
    },
    {
      "cell_type": "code",
      "execution_count": 14,
      "metadata": {
        "colab": {
          "base_uri": "https://localhost:8080/"
        },
        "id": "S5y1G_nh93Rt",
        "outputId": "269c06c3-5c12-4c11-99c4-09f1e6146e0a"
      },
      "outputs": [
        {
          "name": "stdout",
          "output_type": "stream",
          "text": [
            "Medidas de tendencia central y dispersión para '--base Juliet Java Total Energy (J)':\n",
            "Media: 26.581195454545455\n",
            "Mediana: 20.0124\n",
            "Desviación Estándar: 20.92477948975522\n",
            "Varianza: 437.84639669488075\n",
            "Rango: 108.5025\n",
            "Mínimo: 12.8693\n",
            "Máximo: 116.6185\n",
            "\n",
            "Medidas de tendencia central y dispersión para 'index Juliet Java Total Energy (J)':\n",
            "Media: 18.584343030303028\n",
            "Mediana: 18.30825\n",
            "Desviación Estándar: 2.964932688163141\n",
            "Varianza: 8.790825845338308\n",
            "Rango: 21.669199999999993\n",
            "Mínimo: 12.2322\n",
            "Máximo: 29.7852\n",
            "\n"
          ]
        }
      ],
      "source": [
        "#Cálculo de las medidas de tendencia central y las dispersioón para '--base Juliet Java Total Energy (J)'\n",
        "print(\"Medidas de tendencia central y dispersión para '--base Juliet Java Total Energy (J)':\")\n",
        "print(f\"Media: {subset_clean['--base Juliet Java Total Energy (J)'].mean()}\")\n",
        "print(f\"Mediana: {subset_clean['--base Juliet Java Total Energy (J)'].median()}\")\n",
        "print(f\"Desviación Estándar: {subset_clean['--base Juliet Java Total Energy (J)'].std()}\")\n",
        "print(f\"Varianza: {subset_clean['--base Juliet Java Total Energy (J)'].var()}\")\n",
        "print(f\"Rango: {subset_clean['--base Juliet Java Total Energy (J)'].max() - client_data['index Total Energy (J)'].min()}\")\n",
        "print(f\"Mínimo: {subset_clean['--base Juliet Java Total Energy (J)'].min()}\")\n",
        "print(f\"Máximo: {subset_clean['--base Juliet Java Total Energy (J)'].max()}\\n\")\n",
        "\n",
        "\n",
        "#Cálculo de las medidas de tendencia central y las dispersioón para 'index Juliet Java Total Energy (J)'\n",
        "print(\"Medidas de tendencia central y dispersión para 'index Juliet Java Total Energy (J)':\")\n",
        "print(f\"Media: {subset_clean['index Juliet Java Total Energy (J)'].mean()}\")\n",
        "print(f\"Mediana: {subset_clean['index Juliet Java Total Energy (J)'].median()}\")\n",
        "print(f\"Desviación Estándar: {subset_clean['index Juliet Java Total Energy (J)'].std()}\")\n",
        "print(f\"Varianza: {subset_clean['index Juliet Java Total Energy (J)'].var()}\")\n",
        "print(f\"Rango: {subset_clean['index Juliet Java Total Energy (J)'].max() - client_data['index Total Energy (J)'].min()}\")\n",
        "print(f\"Mínimo: {subset_clean['index Juliet Java Total Energy (J)'].min()}\")\n",
        "print(f\"Máximo: {subset_clean['index Juliet Java Total Energy (J)'].max()}\\n\")"
      ]
    },
    {
      "cell_type": "markdown",
      "metadata": {
        "id": "nRK3CI0p-U7Q"
      },
      "source": [
        "# Comparación de los Resultados:\n",
        "**Media:**\n",
        "*   --base Juliet Java Total Energy (J): 26.58 J\n",
        "*   index Juliet Java Total Energy (J): 18.58 J\n",
        "\n",
        "La --base tiene una media de consumo de energía significativamente mayor que la indexación.\n",
        "\n",
        "**Mediana:**\n",
        "\n",
        "*   --base Juliet Java Total Energy (J): 20.01 J\n",
        "*   index Juliet Java Total Energy (J): 18.30 J\n",
        "\n",
        "Similar a la media, la --base tiene una mediana más alta, lo que indica un mayor consumo en la mayoría de los casos.\n",
        "\n",
        "**Desviación Estándar y Varianza:**\n",
        "\n",
        "\n",
        "*   --base Juliet Java Total Energy (J): Desviación Estándar 20.92 J, Varianza 437.84 J²\n",
        "*   index Juliet Java Total Energy (J): Desviación Estándar 2.96 J, Varianza 8.79 J²\n",
        "\n",
        "Aquí vemos que los valores de --base están mucho más dispersos. Esto sugiere que el consumo de energía --base varía bastante, mientras que el consumo con indexación es más consistente.\n",
        "\n",
        "**Rango:**\n",
        "\n",
        "* --base Juliet Java Total Energy (J): 108.50 J\n",
        "* index Juliet Java Total Energy (J): 21.66 J\n",
        "\n",
        "El rango de --base es mucho mas amplio, lo que puede indicar que tiene valores mas extremos.\n",
        "\n",
        "**Mínimo y Máximo:**\n",
        "\n",
        "* --base Juliet Java Total Energy (J): Mínimo 12.86 J, Máximo 116.61 J\n",
        "* index Juliet Java Total Energy (J): Mínimo 12.23 J, Máximo 29.78 J\n",
        "\n",
        "Aunque ambos conjuntos de datos tienen valores mínimos parecidos, el máximo en la --base es significativamente mayor, lo que indica la presencia de algunos outliers o casos donde el consumo energético fue extremadamente alto.\n",
        "\n",
        "\n",
        "**Conclusiones de la Comparación:**\n",
        "\n",
        "* El consumo de energia en --base es mayor en promedio a index, lo que varia mas en funcion de la query que se esta consultando.\n",
        "\n",
        "* El consumo con indexación es más bajo y más constante, lo que lo convierte en una estrategia de optimización más predecible en términos de consumo energético.\n",
        "\n",
        "* La varianza y la desviación estándar de --base son mucho más altas, lo que sugiere ciertas consultas estan consumiendo mas energia en comparacion con la indexacion.\n",
        "* El rango en --base es mucho mas amplio, lo que indica que hay valores extremos que estan subiendo la media de los datos."
      ]
    },
    {
      "cell_type": "code",
      "execution_count": 15,
      "metadata": {
        "colab": {
          "base_uri": "https://localhost:8080/",
          "height": 573
        },
        "id": "-x_uFC-cDMU7",
        "outputId": "dfb44bc8-4159-4803-e178-48059020c070"
      },
      "outputs": [
        {
          "data": {
            "image/png": "[encoded data removed]",
            "text/plain": [
              "<Figure size 1400x600 with 2 Axes>"
            ]
          },
          "metadata": {},
          "output_type": "display_data"
        }
      ],
      "source": [
        "# Establecer el tamaño de las figuras\n",
        "plt.figure(figsize=(14,6))\n",
        "\n",
        "# Histograma para 'index Total Energy (J)'\n",
        "plt.subplot(1, 2, 1)\n",
        "sns.histplot(subset_clean['--base Juliet Java Total Energy (J)'], bins=20, kde=True, color='blue')\n",
        "plt.title(\"Distribución de '--base Juliet Java Total Energy (J)'\")\n",
        "\n",
        "# Histograma para 'compression Total Energy (J)'\n",
        "plt.subplot(1, 2, 2)\n",
        "sns.histplot(subset_clean['index Juliet Java Total Energy (J)'], bins=20, kde=True, color='green')\n",
        "plt.title(\"Distribución de 'index Juliet Java Total Energy (J)'\")\n",
        "\n",
        "# Mostrar los histogramas\n",
        "plt.show()\n"
      ]
    },
    {
      "cell_type": "markdown",
      "metadata": {
        "id": "fuwlD9xzD1oq"
      },
      "source": [
        "##Analisis de los Histogramas\n",
        "**Distribucion de --base Juliet Java Total Energy (j):**\n",
        "*Distribucion marcada a la izquierda: La gran parte de los datos estan concentrados en valores mas bajos, entre 0 y 50 aproximadamente.\n",
        "*Algunos valores mas altos: Existen valores superior a los 100(J), al hacer un analisis pudimos corroborar que son los datos de la consulta 22, la cual parece que tiene un mayor consumo de energia que las otras consultas.\n",
        "**Distribucion de index Juliet Java Total Energy(J):**\n",
        "*Distribucion mas centralizada: Segun podemos ver en el grafico, los datos se agrupan de una forma parecida a la distribucion normal, por lo que ciertas tecnicas estadisticas como las pruebas parametricas y otras.\n",
        "**Conclusion Preliminar**\n",
        "*--base Juliet Java Total Energy (J): --base consume baja energia en la mayoria de los casos, excepto la consulta 22 que gasta mucha mas energia.\n",
        "*index Juliet Java Total Energy (J): index tiene un  consumo de energia mas variado pero todas las consultas estan cercanas a las medidas de tendencias central."
      ]
    },
    {
      "cell_type": "code",
      "execution_count": 16,
      "metadata": {
        "colab": {
          "base_uri": "https://localhost:8080/",
          "height": 573
        },
        "id": "VGvgvSMIebWO",
        "outputId": "774e68c9-fc24-41c0-db5f-bd86c6266a67"
      },
      "outputs": [
        {
          "data": {
            "image/png": "[encoded data removed]",
            "text/plain": [
              "<Figure size 1400x600 with 2 Axes>"
            ]
          },
          "metadata": {},
          "output_type": "display_data"
        }
      ],
      "source": [
        "# Crear diagramas de caja (boxplots) para ver los outliers y la dispersión\n",
        "plt.figure(figsize=(14,6))\n",
        "\n",
        "# Diagrama de caja para 'index Total Energy (J)'\n",
        "plt.subplot(1, 2, 1)\n",
        "sns.boxplot(x=subset_clean['--base Juliet Java Total Energy (J)'], color='blue')\n",
        "plt.title(\"Diagrama de Caja de '--base Juliet Java Total Energy (J)'\")\n",
        "\n",
        "# Diagrama de caja para 'compression Total Energy (J)'\n",
        "plt.subplot(1, 2, 2)\n",
        "sns.boxplot(x=subset_clean['index Juliet Java Total Energy (J)'], color='green')\n",
        "plt.title(\"Diagrama de Caja de 'index Juliet Java Total Energy (J)'\")\n",
        "\n",
        "# Mostrar los boxplots\n",
        "plt.show()"
      ]
    },
    {
      "cell_type": "markdown",
      "metadata": {
        "id": "KIq1kCGOHy5j"
      },
      "source": [
        "##Analisis de los Diagramas de Cajas\n",
        "*Diagrama de caja para --base Juliet Java Total Energy (J):\n",
        "\n",
        "\n",
        "\n",
        "\n",
        "*Diagrama de caja para index Juliet Java Total Energy (J)"
      ]
    }
  ],
  "metadata": {
    "colab": {
      "provenance": []
    },
    "kernelspec": {
      "display_name": "Python 3",
      "name": "python3"
    },
    "language_info": {
      "codemirror_mode": {
        "name": "ipython",
        "version": 3
      },
      "file_extension": ".py",
      "mimetype": "text/x-python",
      "name": "python",
      "nbconvert_exporter": "python",
      "pygments_lexer": "ipython3",
      "version": "3.12.4"
    }
  },
  "nbformat": 4,
  "nbformat_minor": 0
}
